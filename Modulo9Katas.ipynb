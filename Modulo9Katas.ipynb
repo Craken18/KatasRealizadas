{
 "cells": [
  {
   "cell_type": "markdown",
   "metadata": {},
   "source": [
    "## Ejercicio: Uso de funciones en Python\n",
    "### Ejercicio 1: Trabajar con argumentos en funciones\n",
    "\n",
    "\n",
    "1. Comienza por crear una función que necesite tres lecturas de combustible y devuelva un informe:"
   ]
  },
  {
   "cell_type": "code",
   "execution_count": 1,
   "metadata": {},
   "outputs": [],
   "source": [
    "def reporte(tanque1, tanque2, tanque3):\n",
    "  promedio = (tanque1 + tanque2 + tanque3) / 3\n",
    "  return f\"\"\"Reporte:\n",
    "  Combustible Promedio: {promedio}%\n",
    "  Tanque 1: {tanque1}%\n",
    "  Tanque 2: {tanque2}%\n",
    "  Tanque 3: {tanque3}%\n",
    "  \"\"\""
   ]
  },
  {
   "cell_type": "markdown",
   "metadata": {},
   "source": [
    "2. Ahora que hemos definido la función de informes, vamos a comprobarlo. Para esta misión, los tanques no están llenos:"
   ]
  },
  {
   "cell_type": "code",
   "execution_count": 2,
   "metadata": {},
   "outputs": [
    {
     "name": "stdout",
     "output_type": "stream",
     "text": [
      "Reporte:\n",
      "  Combustible Promedio: 60.0%\n",
      "  Tanque 1: 65%\n",
      "  Tanque 2: 33%\n",
      "  Tanque 3: 82%\n",
      "  \n"
     ]
    }
   ],
   "source": [
    "print(reporte(65,33,82))"
   ]
  },
  {
   "cell_type": "markdown",
   "metadata": {},
   "source": [
    "3. En lugar de simplemente crear el informe, la función también está calculando el promedio. Mejora la legibilidad extrayendo el cálculo promedio de la función en una nueva función para que el promedio se pueda hacer de forma independiente:"
   ]
  },
  {
   "cell_type": "code",
   "execution_count": 3,
   "metadata": {},
   "outputs": [],
   "source": [
    "def promedio_combustible(tanques):\n",
    "  total = sum(tanques)\n",
    "  no_tanques = len(tanques)\n",
    "  return total/no_tanques"
   ]
  },
  {
   "cell_type": "markdown",
   "metadata": {},
   "source": [
    "4. Ahora actualiza la función de informes para llamando a la nueva función del promedio:"
   ]
  },
  {
   "cell_type": "code",
   "execution_count": 4,
   "metadata": {},
   "outputs": [
    {
     "name": "stdout",
     "output_type": "stream",
     "text": [
      "Reporte:\n",
      "  Combustible Promedio: 60.0%\n",
      "  Tanque 1: 65%\n",
      "  Tanque 2: 33%\n",
      "  Tanque 3: 82%\n",
      "  \n"
     ]
    }
   ],
   "source": [
    "def reporte(tanque1, tanque2, tanque3):\n",
    "  promedio = promedio_combustible([tanque1,tanque2,tanque3])\n",
    "  return f\"\"\"Reporte:\n",
    "  Combustible Promedio: {promedio}%\n",
    "  Tanque 1: {tanque1}%\n",
    "  Tanque 2: {tanque2}%\n",
    "  Tanque 3: {tanque3}%\n",
    "  \"\"\"\n",
    "\n",
    "print(reporte(65,33,82))"
   ]
  },
  {
   "cell_type": "markdown",
   "metadata": {},
   "source": [
    "## Ejercicio 2: Trabajo con argumentos de palabra clave\n",
    "### Ejercicio : Trabajar con argumentos de palabras clave en funciones\n",
    "\n",
    "* En este ejercicio, construirás un informe de cohete que requiere varias piezas de información, como el tiempo hasta el destino, el combustible a la izquierda y el nombre del destino. Comienza por crear una función que creará un informe preciso de la misión:"
   ]
  },
  {
   "cell_type": "code",
   "execution_count": 5,
   "metadata": {},
   "outputs": [
    {
     "name": "stdout",
     "output_type": "stream",
     "text": [
      "\n",
      "    Mision hacia Moon.\n",
      "    Tiempo total de viaje: 65 min.\n",
      "    Combustible restante: 500000 gal.\n",
      "    \n"
     ]
    }
   ],
   "source": [
    "def reporte_mision(prelanzamiento, timepo_vuelo, desitno, tanque_externo, tanque_interno):\n",
    "    return f\"\"\"\n",
    "    Mision a {desitno}.\n",
    "    Tiempo total de viaje: {prelanzamiento + timepo_vuelo} min.\n",
    "    Combustible restante: {tanque_externo + tanque_interno} gal.\n",
    "    \"\"\"\n",
    "\n",
    "print(reporte_mision(14, 51, \"Moon\", 200000, 300000))"
   ]
  },
  {
   "cell_type": "markdown",
   "metadata": {},
   "source": [
    "* La función es problemática porque no se puede adaptar para minutos adicionales o tanques adicionales de combustible. Hazlo más flexible permitiendo cualquier número de pasos basados en el tiempo y cualquier número de tanques. En lugar de usar *args y **kwargs, aprovecha el hecho de que puedes usar cualquier nombre que desees. Asegurate que la función sea más legible mediante el uso de nombres de variables que están asociados con las entradas, como *minutes y **fuel_reservoirs:"
   ]
  },
  {
   "cell_type": "code",
   "execution_count": 7,
   "metadata": {},
   "outputs": [
    {
     "name": "stdout",
     "output_type": "stream",
     "text": [
      "\n",
      "    Mision a Moon\n",
      "    Tiempo total de viaje: 76 minutes\n",
      "    Combustible restante: 500000\n",
      "    \n"
     ]
    }
   ],
   "source": [
    "def reporte_mision(destino, *minutos, **tanques):\n",
    "    return f\"\"\"\n",
    "    Mision a {destino}\n",
    "    Tiempo total de viaje: {sum(minutos)} minutes\n",
    "    Combustible restante: {sum(tanques.values())}\n",
    "    \"\"\"\n",
    "\n",
    "print(reporte_mision(\"Moon\", 10, 15, 51, interno=300000, externo=200000))"
   ]
  },
  {
   "cell_type": "markdown",
   "metadata": {},
   "source": [
    "* Debido a que el combustible que queda en los tanques es específico de cada tanque, actualiza la función para usar el nombre de cada tanque en el informe:"
   ]
  },
  {
   "cell_type": "code",
   "execution_count": 10,
   "metadata": {},
   "outputs": [
    {
     "name": "stdout",
     "output_type": "stream",
     "text": [
      "\n",
      "    Mision a Moon\n",
      "    Tiempo total de viaje: 74 minutes\n",
      "    Combustible restante: 500000\n",
      "    Tanque interno --> 300000 gal restantes\n",
      "Tanque externo --> 200000 gal restantes\n",
      "\n"
     ]
    }
   ],
   "source": [
    "def reporte_mision(destino, *minutos, **tanques):\n",
    "    reporte = f\"\"\"\n",
    "    Mision a {destino}\n",
    "    Tiempo total de viaje: {sum(minutos)} minutes\n",
    "    Combustible restante: {sum(tanques.values())}\n",
    "    \"\"\"\n",
    "    for tank_name, gallons in tanques.items():\n",
    "        reporte += f\"Tanque {tank_name} --> {gallons} gal restantes\\n\"\n",
    "    return reporte\n",
    "\n",
    "print(reporte_mision(\"Moon\", 8, 11, 55, interno=300000, externo=200000))"
   ]
  }
 ],
 "metadata": {
  "interpreter": {
   "hash": "63fd5069d213b44bf678585dea6b12cceca9941eaf7f819626cde1f2670de90d"
  },
  "kernelspec": {
   "display_name": "Python 3.9.1 64-bit",
   "language": "python",
   "name": "python3"
  },
  "language_info": {
   "codemirror_mode": {
    "name": "ipython",
    "version": 3
   },
   "file_extension": ".py",
   "mimetype": "text/x-python",
   "name": "python",
   "nbconvert_exporter": "python",
   "pygments_lexer": "ipython3",
   "version": "3.9.1"
  },
  "orig_nbformat": 4
 },
 "nbformat": 4,
 "nbformat_minor": 2
}
